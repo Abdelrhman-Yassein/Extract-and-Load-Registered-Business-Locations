{
 "cells": [
  {
   "cell_type": "code",
   "execution_count": 1,
   "id": "aff4d551",
   "metadata": {},
   "outputs": [],
   "source": [
    "import findspark\n",
    "findspark.init()\n",
    "from pyspark.sql import SparkSession"
   ]
  },
  {
   "cell_type": "code",
   "execution_count": 2,
   "id": "da310a46",
   "metadata": {},
   "outputs": [],
   "source": [
    "spark = (SparkSession\n",
    "  .builder\n",
    "  .getOrCreate())  "
   ]
  },
  {
   "cell_type": "code",
   "execution_count": 3,
   "id": "efc4a2ec",
   "metadata": {},
   "outputs": [],
   "source": [
    "# Read Data From Sql Server \n",
    "jdbcUrl = \"jdbc:sqlserver://DESKTOP-L3KHVFJ\\SQLEXPRESS:1433;database=businesslocation;trustServerCertificate=true;\"\n",
    "tablename_list=['locationtime','businesstime','registeredbusiness','location']\n",
    "reader = (\n",
    "        spark.read.format('jdbc')\n",
    "        .option(\"url\",jdbcUrl)\n",
    "        .option('user','username')\n",
    "        .option('password','password')\n",
    ")\n",
    "for tablename in tablename_list:\n",
    "    reader.option(\"dbtable\",tablename).load().createTempView(tablename)"
   ]
  },
  {
   "cell_type": "code",
   "execution_count": 4,
   "id": "0b5a7c5c",
   "metadata": {},
   "outputs": [
    {
     "name": "stdout",
     "output_type": "stream",
     "text": [
      "+-------------------+----+---+----+-----+----+--------+\n",
      "|location_start_date|hour|day|week|month|year| weekday|\n",
      "+-------------------+----+---+----+-----+----+--------+\n",
      "|2009-11-01 00:00:00|   0|  1|  44|   11|2009|  Sunday|\n",
      "|2016-05-09 00:00:00|   0|  9|  19|    5|2016|  Monday|\n",
      "|2014-01-24 00:00:00|   0| 24|   4|    1|2014|  Friday|\n",
      "|2007-09-24 00:00:00|   0| 24|  39|    9|2007|  Monday|\n",
      "|2020-08-01 00:00:00|   0|  1|  31|    8|2020|Saturday|\n",
      "+-------------------+----+---+----+-----+----+--------+\n",
      "\n"
     ]
    }
   ],
   "source": [
    "spark.sql(\"select * from locationtime limit 5 \").show(5)"
   ]
  },
  {
   "cell_type": "code",
   "execution_count": 7,
   "id": "6188e7f5",
   "metadata": {},
   "outputs": [
    {
     "name": "stdout",
     "output_type": "stream",
     "text": [
      "+----+--------+\n",
      "|year|count(1)|\n",
      "+----+--------+\n",
      "|1959|       1|\n",
      "|1990|      21|\n",
      "|1975|      14|\n",
      "|1977|       9|\n",
      "|2003|      58|\n",
      "+----+--------+\n",
      "only showing top 5 rows\n",
      "\n"
     ]
    }
   ],
   "source": [
    "spark.sql(\"select year,count(*) from locationtime  group by year\").show(5)"
   ]
  },
  {
   "cell_type": "code",
   "execution_count": 9,
   "id": "078deef4",
   "metadata": {},
   "outputs": [
    {
     "name": "stdout",
     "output_type": "stream",
     "text": [
      "+-------------------+----+---+----+-----+----+--------+\n",
      "|business_start_date|hour|day|week|month|year| weekday|\n",
      "+-------------------+----+---+----+-----+----+--------+\n",
      "|1973-01-02 00:00:00|   0|  2|   1|    1|1973| Tuesday|\n",
      "|1968-10-01 00:00:00|   0|  1|  40|   10|1968| Tuesday|\n",
      "|2000-03-06 00:00:00|   0|  6|  10|    3|2000|  Monday|\n",
      "|1982-08-16 00:00:00|   0| 16|  33|    8|1982|  Monday|\n",
      "|1998-01-01 00:00:00|   0|  1|   1|    1|1998|Thursday|\n",
      "+-------------------+----+---+----+-----+----+--------+\n",
      "\n"
     ]
    }
   ],
   "source": [
    "spark.sql(\"select * from businesstime limit 5\").show()"
   ]
  },
  {
   "cell_type": "code",
   "execution_count": 10,
   "id": "c6e6f311",
   "metadata": {},
   "outputs": [
    {
     "name": "stdout",
     "output_type": "stream",
     "text": [
      "+----+--------+\n",
      "|year|count(1)|\n",
      "+----+--------+\n",
      "|1959|       1|\n",
      "|1990|      30|\n",
      "|1975|      14|\n",
      "|1977|      13|\n",
      "|2003|      69|\n",
      "+----+--------+\n",
      "only showing top 5 rows\n",
      "\n"
     ]
    }
   ],
   "source": [
    "spark.sql(\"select year , count(*) from businesstime group by year\").show(5)"
   ]
  },
  {
   "cell_type": "code",
   "execution_count": 12,
   "id": "d929abce",
   "metadata": {},
   "outputs": [
    {
     "name": "stdout",
     "output_type": "stream",
     "text": [
      "+--------------------+-----------------------+--------------------+-----------+-----------------------+--------------------+--------------------+-------------------+-------------------+\n",
      "|            uniqueid|business_account_number|      ownership_name|parking_tax|transient_occupancy_tax|   business_location|       location_name|business_start_date|location_start_date|\n",
      "+--------------------+-----------------------+--------------------+-----------+-----------------------+--------------------+--------------------+-------------------+-------------------+\n",
      "|0080280-05-001-00...|                  80280|Wollborg-Michelso...|      false|                  false|POINT (-122.408 3...|  Wollborg-Michelson|1973-01-02 00:00:00|2009-11-01 00:00:00|\n",
      "|1077369-06-161-00...|                  22415|Pflueger & Baerwa...|      false|                  false|POINT (-122.40095...|Pflueger & Baerwa...|1968-10-01 00:00:00|2016-05-09 00:00:00|\n",
      "+--------------------+-----------------------+--------------------+-----------+-----------------------+--------------------+--------------------+-------------------+-------------------+\n",
      "only showing top 2 rows\n",
      "\n"
     ]
    }
   ],
   "source": [
    "spark.sql(\"select * from registeredbusiness limit 5\").show(2)"
   ]
  },
  {
   "cell_type": "code",
   "execution_count": 19,
   "id": "be91a365",
   "metadata": {},
   "outputs": [
    {
     "name": "stdout",
     "output_type": "stream",
     "text": [
      "+--------------------+-----------+\n",
      "|       location_name|count(year)|\n",
      "+--------------------+-----------+\n",
      "|          Ecruiz Inc|          3|\n",
      "|  Hpm Of America Llc|          3|\n",
      "| Jordie Welles Works|          3|\n",
      "|Aramark Rfs At Sa...|         14|\n",
      "|             Propark|          6|\n",
      "|Exela Enterprise ...|          4|\n",
      "|       Phil'z Coffee|          6|\n",
      "|           Lees Deli|          5|\n",
      "|     Donna's Tamales|          5|\n",
      "|   Cdf Labor Law Llp|          3|\n",
      "|The Athletic Medi...|          3|\n",
      "|       San Francisco|          7|\n",
      "|           Tcgsf Inc|          3|\n",
      "|Bon Appetit @ Twi...|          4|\n",
      "|             Compass|          3|\n",
      "|            Kim Tsui|          3|\n",
      "|         Diane Gibbs|          3|\n",
      "| Hello San Francisco|          3|\n",
      "|          Wee Scotty|          3|\n",
      "|         Enforce Llc|          3|\n",
      "+--------------------+-----------+\n",
      "only showing top 20 rows\n",
      "\n"
     ]
    }
   ],
   "source": [
    "spark.sql(\"select r.location_name ,count(l.year)\\\n",
    "            from registeredbusiness as r inner join  locationtime as l \\\n",
    "            on  r.location_start_date = l.location_start_date group by r.location_name\\\n",
    "            having count(l.year) > 2\").show()"
   ]
  },
  {
   "cell_type": "code",
   "execution_count": 20,
   "id": "ad04f741",
   "metadata": {},
   "outputs": [
    {
     "name": "stdout",
     "output_type": "stream",
     "text": [
      "+--------------------+--------------------+-------------+-----+--------------+\n",
      "|       location_name|      street_address|         city|state|source_zipcode|\n",
      "+--------------------+--------------------+-------------+-----+--------------+\n",
      "|  Wollborg-Michelson|291 Geary St Ste 500|San Francisco|   CA|         94102|\n",
      "|Pflueger & Baerwa...| 220 Sansome St 1090|San Francisco|   CA|         94104|\n",
      "|    Walgreens #15567|       845 Market St|San Francisco|   CA|         94103|\n",
      "|       Vericlaim Inc|500 Sansome St St...|San Francisco|   CA|         94111|\n",
      "|Ati Restoration, Llc|25000 Industrial ...|      Hayward|   CA|         94545|\n",
      "|   Missirlian Donald|500 Sutter St Ste...|San Francisco|   CA|         94102|\n",
      "|Intermodal Capita...|505 Montgomery St...|San Francisco|   CA|         94111|\n",
      "| B & J Manufacturing|   1320 Van Dyke Ave|San Francisco|   CA|         94124|\n",
      "|239-245 Bartlett ...|239 Bartlett St #245|San Francisco|   CA|         94110|\n",
      "|         Impark 0347|  900 North Point St|San Francisco|   CA|         94109|\n",
      "|282-290 Clipper Apts|      282 Clipper St|San Francisco|   CA|         94114|\n",
      "|              Desura|      945 Battery St|San Francisco|   CA|         94111|\n",
      "|     Terroir 2 Shelf| 1045 Sansome St 110|San Francisco|   CA|         94111|\n",
      "|Academy Of Art Un...|        1153 Bush St|San Francisco|   CA|         94109|\n",
      "|         Diebold Inc|7901 Stoneridge D...|   Pleasanton|   CA|         94588|\n",
      "|    Paul B Roache Md|1 Daniel Burnham ...|San Francisco|   CA|         94109|\n",
      "|Meyer Paulette Co...|1714 Stockton St ...|San Francisco|   CA|         94133|\n",
      "|     Zwillinger & Co|     210 Post St 412|San Francisco|   CA|         94108|\n",
      "|Urban Land Servic...|1170 Sacramento S...|San Francisco|   CA|         94108|\n",
      "|      Marianne Smith|870 Market St Ste...|San Francisco|   CA|         94102|\n",
      "+--------------------+--------------------+-------------+-----+--------------+\n",
      "only showing top 20 rows\n",
      "\n"
     ]
    }
   ],
   "source": [
    "spark.sql(\"select * from location\").show()"
   ]
  }
 ],
 "metadata": {
  "kernelspec": {
   "display_name": "Python 3",
   "language": "python",
   "name": "python3"
  },
  "language_info": {
   "codemirror_mode": {
    "name": "ipython",
    "version": 3
   },
   "file_extension": ".py",
   "mimetype": "text/x-python",
   "name": "python",
   "nbconvert_exporter": "python",
   "pygments_lexer": "ipython3",
   "version": "3.8.8"
  }
 },
 "nbformat": 4,
 "nbformat_minor": 5
}
