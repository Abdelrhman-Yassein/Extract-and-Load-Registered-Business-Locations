{
 "cells": [
  {
   "cell_type": "code",
   "execution_count": 1,
   "id": "c2aa9a6f",
   "metadata": {},
   "outputs": [],
   "source": [
    "## Import Libraries\n",
    "import findspark\n",
    "findspark.init()\n",
    "from pyspark.sql import SparkSession\n",
    "import pyodbc"
   ]
  },
  {
   "cell_type": "code",
   "execution_count": 2,
   "id": "3e181db7",
   "metadata": {},
   "outputs": [],
   "source": [
    "spark = SparkSession.builder.getOrCreate() # Create Spark Session"
   ]
  },
  {
   "cell_type": "code",
   "execution_count": 3,
   "id": "3410c7e1",
   "metadata": {},
   "outputs": [],
   "source": [
    "# Read Data From PostgreSql \n",
    "tablename_list=['locationtime','businesstime','registeredbusiness','location']\n",
    "reader = (\n",
    "        spark.read.format('jdbc')\n",
    "        .option(\"url\",\"jdbc:postgresql://localhost:5432/businesslocation\")\n",
    "        .option('user','username')\n",
    "        .option('password','password')\n",
    "        .option(\"driver\",\"org.postgresql.Driver\")\n",
    ")\n",
    "for tablename in tablename_list:\n",
    "    reader.option(\"dbtable\",tablename).load().createTempView(tablename)"
   ]
  },
  {
   "cell_type": "code",
   "execution_count": 4,
   "id": "05445cbb",
   "metadata": {},
   "outputs": [
    {
     "name": "stdout",
     "output_type": "stream",
     "text": [
      "+-------------------+----+---+----+-----+----+--------+\n",
      "|location_start_date|hour|day|week|month|year| weekday|\n",
      "+-------------------+----+---+----+-----+----+--------+\n",
      "|2009-11-01 00:00:00|   0|  1|  44|   11|2009|  Sunday|\n",
      "|2016-05-09 00:00:00|   0|  9|  19|    5|2016|  Monday|\n",
      "|2014-01-24 00:00:00|   0| 24|   4|    1|2014|  Friday|\n",
      "|2007-09-24 00:00:00|   0| 24|  39|    9|2007|  Monday|\n",
      "|2020-08-01 00:00:00|   0|  1|  31|    8|2020|Saturday|\n",
      "+-------------------+----+---+----+-----+----+--------+\n",
      "only showing top 5 rows\n",
      "\n"
     ]
    }
   ],
   "source": [
    "locationtime = spark.sql(\"select * from locationtime\").show(5)\n"
   ]
  },
  {
   "cell_type": "code",
   "execution_count": 5,
   "id": "f8df1ae5",
   "metadata": {},
   "outputs": [
    {
     "name": "stdout",
     "output_type": "stream",
     "text": [
      "+-------------------+----+---+----+-----+----+--------+\n",
      "|business_start_date|hour|day|week|month|year| weekday|\n",
      "+-------------------+----+---+----+-----+----+--------+\n",
      "|1973-01-02 00:00:00|   0|  2|   1|    1|1973| Tuesday|\n",
      "|1968-10-01 00:00:00|   0|  1|  40|   10|1968| Tuesday|\n",
      "|2000-03-06 00:00:00|   0|  6|  10|    3|2000|  Monday|\n",
      "|1982-08-16 00:00:00|   0| 16|  33|    8|1982|  Monday|\n",
      "|1998-01-01 00:00:00|   0|  1|   1|    1|1998|Thursday|\n",
      "+-------------------+----+---+----+-----+----+--------+\n",
      "only showing top 5 rows\n",
      "\n"
     ]
    }
   ],
   "source": [
    "businesstime = spark.sql(\"select * from businesstime\").show(5)"
   ]
  },
  {
   "cell_type": "code",
   "execution_count": 6,
   "id": "cacbcba6",
   "metadata": {},
   "outputs": [
    {
     "name": "stdout",
     "output_type": "stream",
     "text": [
      "+--------------------+-----------------------+--------------------+-----------+-----------------------+--------------------+--------------------+-------------------+-------------------+\n",
      "|            uniqueid|business_account_number|      ownership_name|parking_tax|transient_occupancy_tax|   business_location|       location_name|business_start_date|location_start_date|\n",
      "+--------------------+-----------------------+--------------------+-----------+-----------------------+--------------------+--------------------+-------------------+-------------------+\n",
      "|0080280-05-001-00...|                  80280|Wollborg-Michelso...|      false|                  false|POINT (-122.408 3...|  Wollborg-Michelson|1973-01-02 00:00:00|2009-11-01 00:00:00|\n",
      "|1077369-06-161-00...|                  22415|Pflueger & Baerwa...|      false|                  false|POINT (-122.40095...|Pflueger & Baerwa...|1968-10-01 00:00:00|2016-05-09 00:00:00|\n",
      "|0030032-46-001-00...|                  30032|         Walgreen Co|      false|                  false|POINT (-122.40681...|    Walgreens #15567|1968-10-01 00:00:00|2014-01-24 00:00:00|\n",
      "|0028703-02-001-00...|                  28703|       Vericlaim Inc|      false|                  false|POINT (-122.40147...|       Vericlaim Inc|1968-10-01 00:00:00|2007-09-24 00:00:00|\n",
      "|1280636-06-211-03...|                 334683| Ati Restoration Llc|      false|                  false|POINT (-122.11577...|Ati Restoration, Llc|2000-03-06 00:00:00|2020-08-01 00:00:00|\n",
      "+--------------------+-----------------------+--------------------+-----------+-----------------------+--------------------+--------------------+-------------------+-------------------+\n",
      "only showing top 5 rows\n",
      "\n"
     ]
    }
   ],
   "source": [
    "registeredbusiness = spark.sql(\"select * from registeredbusiness\").show(5)"
   ]
  },
  {
   "cell_type": "code",
   "execution_count": 7,
   "id": "13e67a69",
   "metadata": {},
   "outputs": [
    {
     "name": "stdout",
     "output_type": "stream",
     "text": [
      "+--------------------+--------------------+-------------+-----+--------------+\n",
      "|       location_name|      street_address|         city|state|source_zipcode|\n",
      "+--------------------+--------------------+-------------+-----+--------------+\n",
      "|  Wollborg-Michelson|291 Geary St Ste 500|San Francisco|   CA|         94102|\n",
      "|Pflueger & Baerwa...| 220 Sansome St 1090|San Francisco|   CA|         94104|\n",
      "|    Walgreens #15567|       845 Market St|San Francisco|   CA|         94103|\n",
      "|       Vericlaim Inc|500 Sansome St St...|San Francisco|   CA|         94111|\n",
      "|Ati Restoration, Llc|25000 Industrial ...|      Hayward|   CA|         94545|\n",
      "+--------------------+--------------------+-------------+-----+--------------+\n",
      "only showing top 5 rows\n",
      "\n"
     ]
    }
   ],
   "source": [
    "location = spark.sql(\"select * from location\").show(5)"
   ]
  },
  {
   "cell_type": "markdown",
   "id": "6686ade2",
   "metadata": {},
   "source": [
    "## Create SQLServer DataBaase"
   ]
  },
  {
   "cell_type": "code",
   "execution_count": 8,
   "id": "cc31aa89",
   "metadata": {},
   "outputs": [],
   "source": [
    "cnxn_str = (\"Driver={SQL Server Native Client 11.0};\"\n",
    "            \"Server=DESKTOP-L3KHVFJ\\SQLEXPRESS;\"\"Database=;\"\"Trusted_Connection=yes;\")"
   ]
  },
  {
   "cell_type": "code",
   "execution_count": 9,
   "id": "bea07a00",
   "metadata": {},
   "outputs": [
    {
     "name": "stdout",
     "output_type": "stream",
     "text": [
      "<pyodbc.Cursor object at 0x00000213DA6EFCB0>\n"
     ]
    }
   ],
   "source": [
    "conn = pyodbc.connect(cnxn_str,autocommit=True)\n",
    "cursor = conn.cursor()\n",
    "print(cursor.execute(\"CREATE DATABASE businesslocation\"))"
   ]
  },
  {
   "cell_type": "code",
   "execution_count": 10,
   "id": "d747b2af",
   "metadata": {},
   "outputs": [],
   "source": [
    "conn.close()"
   ]
  },
  {
   "cell_type": "markdown",
   "id": "f00aa04d",
   "metadata": {},
   "source": [
    "## Load Data To SQLServer Database"
   ]
  },
  {
   "cell_type": "code",
   "execution_count": 11,
   "id": "41daf746",
   "metadata": {},
   "outputs": [],
   "source": [
    "tablename_list=['locationtime','businesstime','registeredbusiness','location']\n",
    "jdbcUrl = \"jdbc:sqlserver://DESKTOP-L3KHVFJ\\SQLEXPRESS:1433;database=businesslocation;trustServerCertificate=true;\"\n",
    "\n",
    "reader = (\n",
    "        spark.read.format('jdbc')\n",
    "        .option(\"url\",\"jdbc:postgresql://localhost:5432/businesslocation\")\n",
    "        .option('user','username')\n",
    "        .option('password','password')\n",
    "        .option(\"driver\",\"org.postgresql.Driver\")\n",
    ")\n",
    "\n",
    "\n",
    "\n",
    "for tablename in tablename_list:\n",
    "    table_reader = reader.option(\"dbtable\",tablename).load()\n",
    "    table_reader.write.format(\"jdbc\")\\\n",
    "        .option(\"url\", jdbcUrl)\\\n",
    "        .option(\"user\", \"username\")\\\n",
    "        .option(\"password\", \"password\")\\\n",
    "        .option(\"dbtable\",tablename).save()    "
   ]
  },
  {
   "cell_type": "code",
   "execution_count": 13,
   "id": "ee165704",
   "metadata": {},
   "outputs": [],
   "source": [
    "spark.stop()"
   ]
  },
  {
   "cell_type": "code",
   "execution_count": null,
   "id": "77abab2c",
   "metadata": {},
   "outputs": [],
   "source": []
  }
 ],
 "metadata": {
  "kernelspec": {
   "display_name": "Python 3",
   "language": "python",
   "name": "python3"
  },
  "language_info": {
   "codemirror_mode": {
    "name": "ipython",
    "version": 3
   },
   "file_extension": ".py",
   "mimetype": "text/x-python",
   "name": "python",
   "nbconvert_exporter": "python",
   "pygments_lexer": "ipython3",
   "version": "3.8.8"
  }
 },
 "nbformat": 4,
 "nbformat_minor": 5
}
